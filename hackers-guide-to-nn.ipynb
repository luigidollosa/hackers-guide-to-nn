{
 "cells": [
  {
   "cell_type": "markdown",
   "metadata": {},
   "source": [
    "# Hacker's Guide to Neural Networks\n",
    "* Python code w/ personal notes and experiments from [Andrej Karpathy's tutorial](http://karpathy.github.io/neuralnets/)"
   ]
  },
  {
   "cell_type": "markdown",
   "metadata": {},
   "source": [
    "---\n",
    "# Real-valued Circuits"
   ]
  },
  {
   "cell_type": "markdown",
   "metadata": {},
   "source": [
    "### Circuit with Single Gate"
   ]
  },
  {
   "cell_type": "code",
   "execution_count": 1,
   "metadata": {
    "collapsed": false
   },
   "outputs": [
    {
     "data": {
      "text/plain": [
       "-6"
      ]
     },
     "execution_count": 1,
     "metadata": {},
     "output_type": "execute_result"
    }
   ],
   "source": [
    "def forwardMultiplyGate(x,y):\n",
    "    return x * y\n",
    "\n",
    "forwardMultiplyGate(-2, 3)"
   ]
  },
  {
   "cell_type": "markdown",
   "metadata": {},
   "source": [
    "#### Strategy 1: Random Local Search"
   ]
  },
  {
   "cell_type": "code",
   "execution_count": 2,
   "metadata": {
    "collapsed": false
   },
   "outputs": [],
   "source": [
    "x, y = -2, 3\n",
    "best_x, best_y = x, y\n",
    "best_out = -float(\"inf\")\n",
    "tweak_amount = 0.01"
   ]
  },
  {
   "cell_type": "code",
   "execution_count": 3,
   "metadata": {
    "collapsed": false
   },
   "outputs": [
    {
     "data": {
      "text/plain": [
       "(-1.9900257329902675, 3.0099742670097323, -5.9932315527023885)"
      ]
     },
     "execution_count": 3,
     "metadata": {},
     "output_type": "execute_result"
    }
   ],
   "source": [
    "import random\n",
    "for i in range(100):\n",
    "    random_ = (random.random() * 2 - 1)\n",
    "    x_try = x + tweak_amount * random_\n",
    "    y_try = y + tweak_amount * random_\n",
    "    out = forwardMultiplyGate(x_try, y_try)\n",
    "    \n",
    "    if (out > best_out):\n",
    "        best_out, best_x, best_y = out, x_try, y_try\n",
    "\n",
    "best_x, best_y, out"
   ]
  },
  {
   "cell_type": "markdown",
   "metadata": {},
   "source": [
    "#### Strategy 2: Numerical Gradient\n",
    "* tweaking the knobs for each pass"
   ]
  },
  {
   "cell_type": "code",
   "execution_count": 4,
   "metadata": {
    "collapsed": false
   },
   "outputs": [
    {
     "data": {
      "text/plain": [
       "(3.00000000000189, -2.0000000000042206)"
      ]
     },
     "execution_count": 4,
     "metadata": {},
     "output_type": "execute_result"
    }
   ],
   "source": [
    "x, y = -2, 3\n",
    "out = forwardMultiplyGate(x, y)\n",
    "h = 0.0001\n",
    "\n",
    "out_x = forwardMultiplyGate(x + h, y)\n",
    "x_derivative = float((out_x - out) / h)\n",
    "out_y = forwardMultiplyGate(x, y + h)\n",
    "y_derivative = float((out_y - out) / h)\n",
    "\n",
    "x_derivative, y_derivative"
   ]
  },
  {
   "cell_type": "code",
   "execution_count": 5,
   "metadata": {
    "collapsed": false
   },
   "outputs": [
    {
     "data": {
      "text/plain": [
       "-5.87059999999986"
      ]
     },
     "execution_count": 5,
     "metadata": {},
     "output_type": "execute_result"
    }
   ],
   "source": [
    "step_size = 0.01\n",
    "x += step_size * x_derivative\n",
    "y += step_size * y_derivative\n",
    "out_new = forwardMultiplyGate(x, y)\n",
    "\n",
    "out_new"
   ]
  },
  {
   "cell_type": "markdown",
   "metadata": {},
   "source": [
    "Try to see with more iterations if the gradient is really towards increasing the function.. \n",
    "\n",
    "It is! Except if step to (-)step, opposite direction of gradient."
   ]
  },
  {
   "cell_type": "code",
   "execution_count": 8,
   "metadata": {
    "collapsed": false,
    "scrolled": true
   },
   "outputs": [
    {
     "name": "stdout",
     "output_type": "stream",
     "text": [
      "old x: -0.9999, x derivative: 1.0, new x: -0.99\n",
      "old y: -1.0001, y derivative: -1.0, new y: 0.99\n",
      "out: -0.9801\n",
      "\n",
      "old x: -0.980001, x derivative: 0.99, new x: -0.9801\n",
      "old y: -0.980199, y derivative: -0.99, new y: 0.9801\n",
      "out: -0.96059601\n",
      "\n",
      "old x: -0.960498, x derivative: 0.9801, new x: -0.970299\n",
      "old y: -0.96069402, y derivative: -0.9801, new y: 0.970299\n",
      "out: -0.941480149401\n",
      "\n",
      "old x: -0.941383119501, x derivative: 0.970299, new x: -0.96059601\n",
      "old y: -0.941577179301, y derivative: -0.970298999999, new y: 0.96059601\n",
      "out: -0.922744694428\n",
      "\n",
      "old x: -0.922648634827, x derivative: 0.96059601, new x: -0.9509900499\n",
      "old y: -0.922840754029, y derivative: -0.96059601, new y: 0.9509900499\n",
      "out: -0.904382075009\n",
      "\n",
      "old x: -0.904286976004, x derivative: 0.950990049901, new x: -0.941480149401\n",
      "old y: -0.904477174014, y derivative: -0.950990049899, new y: 0.941480149401\n",
      "out: -0.886384871716\n",
      "\n",
      "old x: -0.886290723701, x derivative: 0.941480149401, new x: -0.932065347907\n",
      "old y: -0.886479019731, y derivative: -0.9414801494, new y: 0.932065347907\n",
      "out: -0.868745812769\n",
      "\n",
      "old x: -0.868652606234, x derivative: 0.932065347907, new x: -0.922744694428\n",
      "old y: -0.868839019304, y derivative: -0.932065347907, new y: 0.922744694428\n",
      "out: -0.851457771095\n",
      "\n",
      "old x: -0.851365496625, x derivative: 0.922744694428, new x: -0.913517247484\n",
      "old y: -0.851550045564, y derivative: -0.922744694427, new y: 0.913517247484\n",
      "out: -0.83451376145\n",
      "\n",
      "old x: -0.834422409725, x derivative: 0.913517247484, new x: -0.904382075009\n",
      "old y: -0.834605113175, y derivative: -0.913517247483, new y: 0.904382075009\n",
      "out: -0.817906937597\n",
      "\n"
     ]
    }
   ],
   "source": [
    "step_size = 0.01\n",
    "x, y = -1, 1\n",
    "h = 0.0001\n",
    "\n",
    "for i in range(10):\n",
    "    \n",
    "    out = forwardMultiplyGate(x, y)\n",
    "    \n",
    "    out_x = forwardMultiplyGate(x + h, y)\n",
    "    x_derivative = (out_x - out) / h\n",
    "    \n",
    "    out_y = forwardMultiplyGate(x, y + h)\n",
    "    y_derivative = (out_y - out) / h\n",
    "    \n",
    "    x += step_size * x_derivative\n",
    "    y += step_size * y_derivative\n",
    "    out_new = forwardMultiplyGate(x, y)\n",
    "    \n",
    "    print \"old x: %s, x derivative: %s, new x: %s\\nold y: %s, y derivative: %s, new y: %s\\nout: %s\\n\" % \\\n",
    "    (out_x, x_derivative, x, out_y, y_derivative, y, out_new)"
   ]
  },
  {
   "cell_type": "markdown",
   "metadata": {},
   "source": [
    "#### Strategy 3: Analytical Gradient\n",
    "* for our function, it turns out that the derivatives of x, y are y, x respectively."
   ]
  },
  {
   "cell_type": "code",
   "execution_count": 9,
   "metadata": {
    "collapsed": false
   },
   "outputs": [
    {
     "data": {
      "text/plain": [
       "-5.8706"
      ]
     },
     "execution_count": 9,
     "metadata": {},
     "output_type": "execute_result"
    }
   ],
   "source": [
    "x, y = -2, 3 # re-initialize\n",
    "x_gradient, y_gradient = y, x # derived from separate evaluation\n",
    "\n",
    "x += step_size * x_gradient\n",
    "y += step_size * y_gradient\n",
    "out_new = forwardMultiplyGate(x, y)\n",
    "\n",
    "out_new"
   ]
  },
  {
   "cell_type": "markdown",
   "metadata": {},
   "source": [
    "### Circuits with Multiple Gates"
   ]
  },
  {
   "cell_type": "code",
   "execution_count": 10,
   "metadata": {
    "collapsed": false
   },
   "outputs": [
    {
     "data": {
      "text/plain": [
       "-12"
      ]
     },
     "execution_count": 10,
     "metadata": {},
     "output_type": "execute_result"
    }
   ],
   "source": [
    "def forwardMultiplyGate(a, b): return a * b\n",
    "def forwardAddGate(a, b): return a + b\n",
    "\n",
    "def forwardCircuit(x, y, z):\n",
    "    q = forwardAddGate(x, y)\n",
    "    f = forwardMultiplyGate(q, z) \n",
    "    return f\n",
    "\n",
    "x, y, z = -2, 5, -4\n",
    "forwardCircuit(x, y, z)"
   ]
  },
  {
   "cell_type": "markdown",
   "metadata": {
    "collapsed": true
   },
   "source": [
    "#### Backpropagation\n",
    "* the chain rule, is really really useful"
   ]
  },
  {
   "cell_type": "code",
   "execution_count": 11,
   "metadata": {
    "collapsed": false
   },
   "outputs": [
    {
     "name": "stdout",
     "output_type": "stream",
     "text": [
      "-12\n",
      "-11.5924\n"
     ]
    }
   ],
   "source": [
    "x, y, z = -2, 5, -4\n",
    "q = forwardAddGate(x, y)\n",
    "f = forwardMultiplyGate(q, z)\n",
    "print f\n",
    "\n",
    "derivative_f_wrt_z = q\n",
    "derivative_f_wrt_q = z\n",
    "\n",
    "derivative_q_wrt_x = 1\n",
    "derivative_q_wrt_y = 1\n",
    "\n",
    "derivative_f_wrt_x = derivative_f_wrt_q * derivative_q_wrt_x\n",
    "derivative_f_wrt_y = derivative_f_wrt_q * derivative_q_wrt_y\n",
    "\n",
    "step_size = 0.01\n",
    "x += step_size * derivative_f_wrt_x\n",
    "y += step_size * derivative_f_wrt_y\n",
    "z += step_size * derivative_f_wrt_z\n",
    "print forwardMultiplyGate(forwardAddGate(x, y), z)"
   ]
  },
  {
   "cell_type": "code",
   "execution_count": 12,
   "metadata": {
    "collapsed": false
   },
   "outputs": [
    {
     "name": "stdout",
     "output_type": "stream",
     "text": [
      "-11.5924\n",
      "-11.191964\n",
      "-10.798638\n",
      "-10.412368\n",
      "-10.0331\n",
      "-9.66078\n",
      "-9.295354\n",
      "-8.936768\n",
      "-8.584968\n",
      "-8.2399\n",
      "-7.90151\n",
      "-7.569744\n",
      "-7.244548\n",
      "-6.925868\n",
      "-6.61365\n",
      "-6.30784\n",
      "-6.008384\n",
      "-5.715228\n",
      "-5.428318\n",
      "-5.1476\n"
     ]
    }
   ],
   "source": [
    "x, y, z = -2, 5, -4\n",
    "step_size = 0.01\n",
    "\n",
    "for i in range(20):\n",
    "    \n",
    "    derivative_f_wrt_z = q\n",
    "    derivative_f_wrt_q = z\n",
    "\n",
    "    derivative_q_wrt_x = 1\n",
    "    derivative_q_wrt_y = 1\n",
    "\n",
    "    derivative_f_qrt_x = derivative_f_wrt_q * derivative_q_wrt_x\n",
    "    derivative_f_wrt_y = derivative_f_wrt_q * derivative_q_wrt_y\n",
    "\n",
    "    x += step_size * derivative_f_qrt_x\n",
    "    y += step_size * derivative_f_wrt_y\n",
    "    z += step_size * derivative_f_wrt_z\n",
    "    \n",
    "    print forwardMultiplyGate(forwardAddGate(x, y), z)"
   ]
  },
  {
   "cell_type": "markdown",
   "metadata": {},
   "source": [
    "Experiment with chain rule with a basic cost function.\n",
    "\n",
    "It works! (Finds the proper inputs to minimize the function, instead of just ascending the function). Beautiful."
   ]
  },
  {
   "cell_type": "code",
   "execution_count": 14,
   "metadata": {
    "collapsed": false,
    "scrolled": true
   },
   "outputs": [
    {
     "name": "stdout",
     "output_type": "stream",
     "text": [
      " -1.008 2.992 3.994 8 2\n",
      "-1.01568483942 2.98431516058 3.988227712 7.924096 1.85107270861\n",
      "-1.02306842885 2.97693157115 3.982673674 7.8513460015 1.71374100864\n",
      "-1.03016395748 2.96983604252 3.9773288761 7.78159929941 1.58704803184\n",
      "-1.03698393817 2.96301606183 3.97218473472 7.714713794 1.47012169766\n",
      "-1.04354024913 2.95645975087 3.96723306851 7.6505554002 1.36216656457\n",
      "-1.04984417258 2.95015582742 3.962466076 7.5889975047 1.26245653498\n",
      "-1.05590643052 2.94409356948 3.9578763146 7.52992046615 1.17032831638\n",
      "-1.06173721806 2.93826278194 3.95345668114 7.4732111548 1.08517555331\n",
      "-1.06734623425 2.93265376575 3.94920039355 7.41876252785 1.00644355522\n",
      "-1.0727427109 2.9272572891 3.94510097384 7.36647323747 0.933624554359\n",
      "-1.07793543928 2.92206456072 3.94115223204 7.31624726845 0.866253435853\n",
      "-1.0829327951 2.9170672049 3.93734825123 7.26799360311 0.803903888768\n",
      "-1.08774276174 2.91225723826 3.93368337349 7.22162591093 0.746184933134\n",
      "-1.09237295199 2.90762704801 3.93015218671 7.17706226095 0.692737783074\n",
      "-1.09683062828 2.90316937172 3.92674951215 7.13422485491 0.643233010744\n",
      "-1.10112272171 2.89887727829 3.92347039281 7.09303977954 0.597367979831\n",
      "-1.10525584971 2.89474415029 3.92031008248 7.05343677632 0.554864520847\n",
      "-1.10923633274 2.89076366726 3.9172640354 7.01534902726 0.515466823579\n",
      "-1.1130702098 2.8869297902 3.91432789653 6.97871295562 0.478939524749\n",
      "-1.11676325307 2.88323674693 3.91149749241 6.9434680401 0.445065971344\n",
      "-1.12032098159 2.87967901841 3.90876882249 6.90955664166 0.413646642196\n",
      "-1.12374867416 2.87625132584 3.90613805096 6.87692384191 0.384497712253\n",
      "-1.12705138143 2.87294861857 3.90360149908 6.84551729211 0.357449745627\n",
      "-1.13023393727 2.86976606273 3.90115563787 6.81528707214 0.332346504998\n",
      "-1.13330096949 2.86669903051 3.89879708119 6.78618555851 0.309043866201\n",
      "-1.13625690995 2.86374309005 3.89652257929 6.75816730083 0.287408828026\n",
      "-1.13910600403 2.86089399597 3.89432901257 6.73118890616 0.267318608244\n",
      "-1.14185231963 2.85814768037 3.89221338578 6.70520893048 0.248659817812\n",
      "-1.1444997556 2.8555002444 3.89017282245 6.68018777701 0.231327705996\n",
      "-1.14705204976 2.85294795024 3.88820455965 6.65608760071 0.2152254699\n",
      "-1.1495127864 2.8504872136 3.88630594299 6.63287221856 0.200263622513\n",
      "-1.15188540348 2.84811459652 3.88447442191 6.61050702529 0.186359413963\n",
      "-1.15417319932 2.84582680068 3.88270754517 6.58895891405 0.17343630122\n",
      "-1.156379339 2.843620661 3.88100295657 6.56819620182 0.161423461883\n",
      "-1.15850686042 2.84149313958 3.87935839089 6.54818855913 0.150255348179\n",
      "-1.16055868001 2.83944131999 3.87777167006 6.52890694383 0.139871277613\n",
      "-1.16253759817 2.83746240183 3.87624069944 6.51032353868 0.130215057064\n",
      "-1.16444630441 2.83555369559 3.87476346436 6.49241169246 0.121234637433\n",
      "-1.16628738225 2.83371261775 3.87333802677 6.47514586435 0.112881796206\n",
      "-1.16806331382 2.83193668618 3.87196252206 6.45850157147 0.105111845522\n",
      "-1.16977648431 2.83022351569 3.87063515604 6.44245533922 0.0978833636041\n",
      "-1.17142918613 2.82857081387 3.86935420208 6.42698465439 0.0911579475421\n",
      "-1.17302362287 2.82697637713 3.86811799831 6.41206792076 0.0848999856612\n",
      "-1.17456191312 2.82543808688 3.86692494506 6.39768441714 0.0790764478182\n",
      "-1.17604609404 2.82395390596 3.86577350229 6.38381425754 0.073656692144\n",
      "-1.17747812482 2.82252187518 3.86466218723 6.3704383535 0.0686122868716\n",
      "-1.17885988987 2.82114011013 3.86358957209 6.35753837838 0.063916846009\n",
      "-1.18019320201 2.81980679799 3.86255428189 6.34509673347 0.0595458777267\n",
      "-1.18147980538 2.81852019462 3.86155499235 6.33309651582 0.0554766444247\n"
     ]
    }
   ],
   "source": [
    "x, y, z, k = -1, 3, 4, 6\n",
    "step_size = 0.001\n",
    "\n",
    "for i in range(50):    \n",
    "   \n",
    "    f = forwardMultiplyGate(forwardAddGate(x, y), z)\n",
    "    c = ((f - k) ** 2) / 2\n",
    "    \n",
    "    derivative_f_wrt_z = q\n",
    "    derivative_f_wrt_q = z\n",
    "\n",
    "    derivative_q_wrt_x = 1\n",
    "    derivative_q_wrt_y = 1\n",
    "\n",
    "    derivative_f_wrt_x = derivative_f_wrt_q * derivative_q_wrt_x\n",
    "    derivative_f_wrt_y = derivative_f_wrt_q * derivative_q_wrt_y\n",
    "    \n",
    "    derivative_c_wrt_f = k - f # we want to follow the opposite of the gradient, to minimize, not maximize the cost\n",
    "    derivative_c_wrt_x = derivative_c_wrt_f * derivative_f_wrt_x\n",
    "    derivative_c_wrt_y = derivative_c_wrt_f * derivative_f_wrt_y\n",
    "    derivative_c_wrt_z = derivative_c_wrt_f * derivative_f_wrt_z\n",
    "\n",
    "    x += step_size * derivative_c_wrt_x\n",
    "    y += step_size * derivative_c_wrt_y\n",
    "    z += step_size * derivative_c_wrt_z\n",
    "\n",
    "    print x, y, z, f, c"
   ]
  },
  {
   "cell_type": "markdown",
   "metadata": {},
   "source": [
    "### Single Neuron\n",
    "* using sigmoid activation"
   ]
  },
  {
   "cell_type": "code",
   "execution_count": 16,
   "metadata": {
    "collapsed": false
   },
   "outputs": [
    {
     "name": "stdout",
     "output_type": "stream",
     "text": [
      "2 0\n",
      "-6\n",
      "0 0\n"
     ]
    }
   ],
   "source": [
    "class Unit(object):\n",
    "    def __init__(self, value, grad):\n",
    "        self.value = value\n",
    "        self.grad = grad\n",
    "        \n",
    "class multiplyGate(object):\n",
    "    def forward(self, u0, u1):\n",
    "        self.u0 = u0\n",
    "        self.u1 = u1\n",
    "        self.utop = Unit(u0.value * u1.value, 0.0)\n",
    "        return self.utop\n",
    "    \n",
    "    def backward(self):\n",
    "        self.u0.grad += self.u1.value * self.utop.grad\n",
    "        self.u1.grad += self.u0.value * self.utop.grad\n",
    "    \n",
    "x = Unit(2,0)\n",
    "y = Unit(-3,0)\n",
    "print x.value, x.grad\n",
    "\n",
    "m = multiplyGate()\n",
    "print m.forward(x,y).value\n",
    "print x.grad, y.grad"
   ]
  },
  {
   "cell_type": "code",
   "execution_count": null,
   "metadata": {
    "collapsed": true
   },
   "outputs": [],
   "source": []
  }
 ],
 "metadata": {
  "kernelspec": {
   "display_name": "Python 2",
   "language": "python",
   "name": "python2"
  },
  "language_info": {
   "codemirror_mode": {
    "name": "ipython",
    "version": 2
   },
   "file_extension": ".py",
   "mimetype": "text/x-python",
   "name": "python",
   "nbconvert_exporter": "python",
   "pygments_lexer": "ipython2",
   "version": "2.7.11"
  }
 },
 "nbformat": 4,
 "nbformat_minor": 0
}
